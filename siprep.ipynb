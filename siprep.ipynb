{
 "cells": [
  {
   "cell_type": "markdown",
   "metadata": {},
   "source": [
    "# 信号処理シンポジウム分析"
   ]
  },
  {
   "cell_type": "code",
   "execution_count": null,
   "metadata": {},
   "outputs": [],
   "source": [
    "import pandas as pd\n",
    "\n",
    "# URL の設定\n",
    "year = '2017'\n",
    "url = 'http://www.ieice.org/ess/sip/symp/' + year + '/?cmd=program'"
   ]
  },
  {
   "cell_type": "code",
   "execution_count": 58,
   "metadata": {},
   "outputs": [],
   "source": [
    "# プログラムの抽出\n",
    "tables = pd.read_html(url)\n",
    "nTables = len(tables)"
   ]
  },
  {
   "cell_type": "code",
   "execution_count": 59,
   "metadata": {},
   "outputs": [],
   "source": [
    "# タイトル・著者リストの抽出\n",
    "nRows = len(tables[1])\n",
    "if nRows > 1:\n",
    "    ser = tables[1].iloc[1:,1]"
   ]
  },
  {
   "cell_type": "code",
   "execution_count": null,
   "metadata": {},
   "outputs": [],
   "source": [
    "# タイトル・著者リストの結合\n",
    "for iTable in range(2,nTables):\n",
    "    nRows = len(tables[iTable])\n",
    "    if nRows > 1:\n",
    "        ser = pd.concat([ser,tables[iTable].iloc[1:,1]],axis=0)      "
   ]
  },
  {
   "cell_type": "code",
   "execution_count": 76,
   "metadata": {},
   "outputs": [
    {
     "data": {
      "text/plain": [
       "0    頂点領域とスペクトル領域の特性を同時に考慮したグラフ信号のサンプリング ○清水 幸奈（東京農...\n",
       "1    行列ランク最小化とスパース正則化を用いた複数の部分空間同定に基づく行列完成手法の提案 ○佐々...\n",
       "2    多変量複素指数べき分布に基づく独立低ランク行列分析 ○池下 林太郎（日立製作所），川口 洋平...\n",
       "3    ハイレゾ録音信号を用いた寒気のするひっかき音の類似性評価に関する検討 ○荻野 秀哉（首都大学...\n",
       "4    音声エンハンスメントにおける複素カルマンフィルタの分析 ○Nguyen Minh Dat（北...\n",
       "Name: 1, dtype: object"
      ]
     },
     "execution_count": 76,
     "metadata": {},
     "output_type": "execute_result"
    }
   ],
   "source": [
    "# インデックスの振り直し\n",
    "ser.reset_index(drop=True).head()"
   ]
  },
  {
   "cell_type": "code",
   "execution_count": null,
   "metadata": {},
   "outputs": [],
   "source": []
  }
 ],
 "metadata": {
  "kernelspec": {
   "display_name": "Python 3",
   "language": "python",
   "name": "python3"
  },
  "language_info": {
   "codemirror_mode": {
    "name": "ipython",
    "version": 3
   },
   "file_extension": ".py",
   "mimetype": "text/x-python",
   "name": "python",
   "nbconvert_exporter": "python",
   "pygments_lexer": "ipython3",
   "version": "3.6.5"
  }
 },
 "nbformat": 4,
 "nbformat_minor": 2
}
