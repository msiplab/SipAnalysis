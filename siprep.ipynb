{
 "cells": [
  {
   "cell_type": "markdown",
   "metadata": {},
   "source": [
    "# 信号処理シンポジウム分析"
   ]
  },
  {
   "cell_type": "code",
   "execution_count": 1,
   "metadata": {},
   "outputs": [],
   "source": [
    "# モジュール\n",
    "import os\n",
    "import pandas as pd\n",
    "from sipsymp import SipSymp\n",
    "from sipwdc import SipWordCloud"
   ]
  },
  {
   "cell_type": "code",
   "execution_count": 2,
   "metadata": {},
   "outputs": [],
   "source": [
    "# 対象年度の設定\n",
    "syear = 2008\n",
    "eyear = 2017"
   ]
  },
  {
   "cell_type": "code",
   "execution_count": 3,
   "metadata": {},
   "outputs": [
    {
     "name": "stdout",
     "output_type": "stream",
     "text": [
      "./siprep2008_2017.csv file exists.\n"
     ]
    }
   ],
   "source": [
    "# 期間内の論文タイトル\n",
    "path = './siprep{0}_{1}.csv'.format(syear,eyear)\n",
    "if os.path.exists(path):\n",
    "    print('{0} file exists.'.format(path))\n",
    "    df = pd.read_csv(path,index_col=0)\n",
    "else:\n",
    "    print('{0} file doesn\\'t exist.'.format(path))\n",
    "    term = range(syear,eyear)\n",
    "    df = SipSymp.titlesDuring(term)\n",
    "    # CSVへの書き出し\n",
    "    df.to_csv(path)"
   ]
  },
  {
   "cell_type": "code",
   "execution_count": 4,
   "metadata": {},
   "outputs": [],
   "source": [
    "# SIPワードクラウドオブジェクトの生成\n",
    "swc = SipWordCloud()"
   ]
  },
  {
   "cell_type": "code",
   "execution_count": null,
   "metadata": {},
   "outputs": [],
   "source": [
    "# 2008-2012のタイトルワードクラウド\n",
    "df2008_2012 = df.loc[df.loc[:,'Year']<2013].reset_index(drop=True)\n",
    "swc.generate(df2008_2012,'sipwdc2008_2012.png')"
   ]
  },
  {
   "cell_type": "code",
   "execution_count": null,
   "metadata": {},
   "outputs": [],
   "source": [
    "# 2013-2017のタイトルワードクラウド\n",
    "df2013_2017 = df.loc[df.loc[:,'Year']>2012].reset_index(drop=True)\n",
    "swc.generate(df2013_2017,'sipwdc2013_2017.png')"
   ]
  }
 ],
 "metadata": {
  "kernelspec": {
   "display_name": "Python 3",
   "language": "python",
   "name": "python3"
  },
  "language_info": {
   "codemirror_mode": {
    "name": "ipython",
    "version": 3
   },
   "file_extension": ".py",
   "mimetype": "text/x-python",
   "name": "python",
   "nbconvert_exporter": "python",
   "pygments_lexer": "ipython3",
   "version": "3.6.5"
  }
 },
 "nbformat": 4,
 "nbformat_minor": 2
}
